{
 "cells": [
  {
   "cell_type": "code",
   "execution_count": null,
   "id": "fda46439-c141-431a-80ec-b7d203e0af72",
   "metadata": {},
   "outputs": [],
   "source": []
  },
  {
   "cell_type": "code",
   "execution_count": 1,
   "id": "9d68d2fb-611e-4eff-92d7-9d129ca80422",
   "metadata": {},
   "outputs": [
    {
     "name": "stdout",
     "output_type": "stream",
     "text": [
      "Found an empty parking space in lot 0 at: (2, 2)\n"
     ]
    }
   ],
   "source": [
    "def find_empty_parking_lot(parking_lots):\n",
    "    for lot_index, parking_lot in enumerate(parking_lots):\n",
    "        for row in range(len(parking_lot)):\n",
    "            for col in range(len(parking_lot[row])):\n",
    "                if parking_lot[row][col] == 0:\n",
    "                    return (lot_index, row, col)\n",
    "    return (-1, -1, -1)  \n",
    "\n",
    "parking_lots = [\n",
    "    [\n",
    "        [1, 1, 1, 1],\n",
    "        [1, 1, 1, 1],\n",
    "        [1, 1, 0, 1]\n",
    "    ],\n",
    "    [\n",
    "        [1, 1, 1, 1],\n",
    "        [1, 1, 1, 1],\n",
    "        [1, 1, 1, 1]\n",
    "    ],\n",
    "    [\n",
    "        [1, 1, 1, 1],\n",
    "        [1, 1, 1, 1],\n",
    "        [1, 1, 1, 1]\n",
    "    ]\n",
    "]\n",
    "empty_space = find_empty_parking_lot(parking_lots)\n",
    "if empty_space != (-1, -1, -1):\n",
    "    lot_index, row, col = empty_space\n",
    "    print(f\"Found an empty parking space in lot {lot_index} at: ({row}, {col})\")\n",
    "else:\n",
    "    print(\"No empty parking space available in any lot.\")"
   ]
  },
  {
   "cell_type": "code",
   "execution_count": null,
   "id": "061bb613-88c3-49a6-b5f6-09cc2c416ff5",
   "metadata": {},
   "outputs": [],
   "source": []
  },
  {
   "cell_type": "code",
   "execution_count": null,
   "id": "5b22ce5b-029a-4a5b-b09e-fc81ea4dbb81",
   "metadata": {},
   "outputs": [],
   "source": []
  }
 ],
 "metadata": {
  "kernelspec": {
   "display_name": "Python 3 (ipykernel)",
   "language": "python",
   "name": "python3"
  },
  "language_info": {
   "codemirror_mode": {
    "name": "ipython",
    "version": 3
   },
   "file_extension": ".py",
   "mimetype": "text/x-python",
   "name": "python",
   "nbconvert_exporter": "python",
   "pygments_lexer": "ipython3",
   "version": "3.12.4"
  }
 },
 "nbformat": 4,
 "nbformat_minor": 5
}
